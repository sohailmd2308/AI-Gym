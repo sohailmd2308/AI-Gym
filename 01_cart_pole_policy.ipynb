{
 "cells": [
  {
   "cell_type": "code",
   "execution_count": 2,
   "metadata": {},
   "outputs": [
    {
     "name": "stdout",
     "output_type": "stream",
     "text": [
      "Episode 0 Average score 22.0\n",
      "Episode 100 Average score 34.14\n",
      "Episode 200 Average score 156.9\n",
      "Number of Episodes 164, Average score 200.0\n"
     ]
    }
   ],
   "source": [
    "import gym\n",
    "import numpy as np\n",
    "import math\n",
    "from collections import deque\n",
    "\n",
    "def do():\n",
    "    def getState(obs):\n",
    "        high = [env.observation_space.high[0], 0.5, env.observation_space.high[2], math.radians(50)]\n",
    "        low = [env.observation_space.low[0], -0.5, env.observation_space.low[2], -math.radians(50)]\n",
    "        ratios = [(obs[i] + abs(low[i])) / (high[i] - low[i]) for i in range(len(obs))]\n",
    "        new = [int(round((b[i] - 1) * ratios[i])) for i in range(len(obs))]\n",
    "        new = [min(b[i] - 1, max(0, new[i])) for i in range(len(obs))]\n",
    "        return tuple(new)\n",
    "\n",
    "    def getAction():\n",
    "        return env.action_space.sample() if (np.random.random() <= epsilon) else np.argmax(Q[current_state])\n",
    "\n",
    "    def updateQ():\n",
    "        Q[current_state][action] += epsilon * (reward + 1.0 * np.max(Q[new_state]) - Q[current_state][action])\n",
    "\n",
    "    b = (1, 1, 6, 12,)\n",
    "    win_score = 200\n",
    "    scores = deque(maxlen=100)\n",
    "    env = gym.make('CartPole-v0')\n",
    "    Q = np.zeros(b + (env.action_space.n,))\n",
    "\n",
    "    for e in range(1000):\n",
    "        current_state = getState(env.reset())\n",
    "        epsilon = max(0.1, min(1.0, 1.0 - math.log10((e + 1) / 25)))\n",
    "        done = False\n",
    "        i = 0\n",
    "        while not done:\n",
    "            #env.render()\n",
    "            action = getAction()\n",
    "            obs, reward, done, _ = env.step(action)\n",
    "            new_state = getState(obs)\n",
    "            updateQ()\n",
    "            current_state = new_state\n",
    "            i += 1\n",
    "\n",
    "        scores.append(i)\n",
    "        mean_score = np.mean(scores)\n",
    "        if mean_score >= win_score and e >= 100:\n",
    "            print('Number of Episodes {}, Average score {}'.format(e - 100, mean_score))\n",
    "            return\n",
    "        if e % 100 == 0:\n",
    "            print('Episode {} Average score {}'.format(e, mean_score))\n",
    "\n",
    "\n",
    "do()"
   ]
  },
  {
   "cell_type": "code",
   "execution_count": null,
   "metadata": {},
   "outputs": [],
   "source": []
  },
  {
   "cell_type": "code",
   "execution_count": null,
   "metadata": {},
   "outputs": [],
   "source": [
    "    "
   ]
  },
  {
   "cell_type": "code",
   "execution_count": null,
   "metadata": {},
   "outputs": [],
   "source": []
  },
  {
   "cell_type": "code",
   "execution_count": null,
   "metadata": {},
   "outputs": [],
   "source": []
  },
  {
   "cell_type": "code",
   "execution_count": null,
   "metadata": {},
   "outputs": [],
   "source": []
  }
 ],
 "metadata": {
  "kernelspec": {
   "display_name": "Python 3",
   "language": "python",
   "name": "python3"
  },
  "language_info": {
   "codemirror_mode": {
    "name": "ipython",
    "version": 3
   },
   "file_extension": ".py",
   "mimetype": "text/x-python",
   "name": "python",
   "nbconvert_exporter": "python",
   "pygments_lexer": "ipython3",
   "version": "3.7.0"
  }
 },
 "nbformat": 4,
 "nbformat_minor": 2
}
